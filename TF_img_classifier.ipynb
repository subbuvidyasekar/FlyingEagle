{
  "nbformat": 4,
  "nbformat_minor": 0,
  "metadata": {
    "colab": {
      "name": "TF_img_classifier.ipynb",
      "provenance": [],
      "authorship_tag": "ABX9TyNEtqXmTA+K5uyHI9xUMESm",
      "include_colab_link": true
    },
    "kernelspec": {
      "name": "python3",
      "display_name": "Python 3"
    }
  },
  "cells": [
    {
      "cell_type": "markdown",
      "metadata": {
        "id": "view-in-github",
        "colab_type": "text"
      },
      "source": [
        "<a href=\"https://colab.research.google.com/github/subbuvidyasekar/ML_Learn/blob/master/TF_img_classifier.ipynb\" target=\"_parent\"><img src=\"https://colab.research.google.com/assets/colab-badge.svg\" alt=\"Open In Colab\"/></a>"
      ]
    },
    {
      "cell_type": "code",
      "metadata": {
        "id": "P_VpuXadcL0n"
      },
      "source": [
        "import tensorflow as tf\r\n"
      ],
      "execution_count": 3,
      "outputs": []
    },
    {
      "cell_type": "code",
      "metadata": {
        "id": "lJszH7DNd0DJ"
      },
      "source": [
        "mnist = tf.keras.datasets.mnist\r\n",
        "(x_train, y_train), (x_test, y_test) = mnist.load_data()\r\n",
        "x_train, x_test = x_train / 255.0, x_test / 255.0"
      ],
      "execution_count": 7,
      "outputs": []
    },
    {
      "cell_type": "code",
      "metadata": {
        "id": "M6xnivTHeDIs"
      },
      "source": [
        "model = tf.keras.models.Sequential([\r\n",
        "  tf.keras.layers.Flatten(input_shape=(28, 28)),\r\n",
        "  tf.keras.layers.Dense(128, activation='relu'),\r\n",
        "  tf.keras.layers.Dropout(0.2),\r\n",
        "  tf.keras.layers.Dense(10)\r\n",
        "])"
      ],
      "execution_count": 8,
      "outputs": []
    },
    {
      "cell_type": "code",
      "metadata": {
        "colab": {
          "base_uri": "https://localhost:8080/"
        },
        "id": "vDpLTKP-ktZW",
        "outputId": "9ccee25a-4dfc-4fe7-e36e-1ef29ec5f3c5"
      },
      "source": [
        "predictions = model(x_train[:1]).numpy()\r\n",
        "predictions"
      ],
      "execution_count": 9,
      "outputs": [
        {
          "output_type": "execute_result",
          "data": {
            "text/plain": [
              "array([[-0.12713319, -0.7777933 ,  0.41536015, -0.21173593, -0.6785277 ,\n",
              "         0.10245205, -0.1570191 , -0.6683758 , -0.37665945,  0.23266296]],\n",
              "      dtype=float32)"
            ]
          },
          "metadata": {
            "tags": []
          },
          "execution_count": 9
        }
      ]
    },
    {
      "cell_type": "code",
      "metadata": {
        "colab": {
          "base_uri": "https://localhost:8080/"
        },
        "id": "26jh56mtnv2O",
        "outputId": "e2ec6cf0-06f0-4786-cc09-ed85bb95cc4a"
      },
      "source": [
        "tf.nn.softmax(predictions).numpy()"
      ],
      "execution_count": 10,
      "outputs": [
        {
          "output_type": "execute_result",
          "data": {
            "text/plain": [
              "array([[0.10246025, 0.05345365, 0.17626144, 0.0941484 , 0.05903205,\n",
              "        0.128903  , 0.09944344, 0.05963439, 0.07983394, 0.14682937]],\n",
              "      dtype=float32)"
            ]
          },
          "metadata": {
            "tags": []
          },
          "execution_count": 10
        }
      ]
    },
    {
      "cell_type": "code",
      "metadata": {
        "id": "AOWWrAEen5M_"
      },
      "source": [
        "loss_fn = tf.keras.losses.SparseCategoricalCrossentropy(from_logits=True)"
      ],
      "execution_count": 11,
      "outputs": []
    },
    {
      "cell_type": "code",
      "metadata": {
        "colab": {
          "base_uri": "https://localhost:8080/"
        },
        "id": "lA_M9_Yyn-dI",
        "outputId": "0c0b5252-31fb-415e-a43f-448986bee4d0"
      },
      "source": [
        "loss_fn(y_train[:1], predictions).numpy()"
      ],
      "execution_count": 12,
      "outputs": [
        {
          "output_type": "execute_result",
          "data": {
            "text/plain": [
              "2.048695"
            ]
          },
          "metadata": {
            "tags": []
          },
          "execution_count": 12
        }
      ]
    },
    {
      "cell_type": "code",
      "metadata": {
        "id": "3LB-sdEUoAfw"
      },
      "source": [
        "model.compile(optimizer='adam',\r\n",
        "              loss=loss_fn,\r\n",
        "              metrics=['accuracy'])\r\n"
      ],
      "execution_count": 13,
      "outputs": []
    },
    {
      "cell_type": "code",
      "metadata": {
        "colab": {
          "base_uri": "https://localhost:8080/"
        },
        "id": "-Rsw8FiPoDhW",
        "outputId": "0f73a709-bef1-462d-a74b-e216ca99c43b"
      },
      "source": [
        "model.fit(x_train, y_train, epochs=5)"
      ],
      "execution_count": 14,
      "outputs": [
        {
          "output_type": "stream",
          "text": [
            "Epoch 1/5\n",
            "1875/1875 [==============================] - 4s 2ms/step - loss: 0.4903 - accuracy: 0.8544\n",
            "Epoch 2/5\n",
            "1875/1875 [==============================] - 4s 2ms/step - loss: 0.1532 - accuracy: 0.9556\n",
            "Epoch 3/5\n",
            "1875/1875 [==============================] - 4s 2ms/step - loss: 0.1109 - accuracy: 0.9676\n",
            "Epoch 4/5\n",
            "1875/1875 [==============================] - 4s 2ms/step - loss: 0.0889 - accuracy: 0.9726\n",
            "Epoch 5/5\n",
            "1875/1875 [==============================] - 4s 2ms/step - loss: 0.0746 - accuracy: 0.9763\n"
          ],
          "name": "stdout"
        },
        {
          "output_type": "execute_result",
          "data": {
            "text/plain": [
              "<tensorflow.python.keras.callbacks.History at 0x7ffa0d347208>"
            ]
          },
          "metadata": {
            "tags": []
          },
          "execution_count": 14
        }
      ]
    },
    {
      "cell_type": "code",
      "metadata": {
        "colab": {
          "base_uri": "https://localhost:8080/"
        },
        "id": "Lfh6IOPooG5g",
        "outputId": "89790006-9a3f-4589-e6dd-f1e01b5be3ae"
      },
      "source": [
        "model.evaluate(x_test,  y_test, verbose=2)"
      ],
      "execution_count": 15,
      "outputs": [
        {
          "output_type": "stream",
          "text": [
            "313/313 - 0s - loss: 0.0770 - accuracy: 0.9767\n"
          ],
          "name": "stdout"
        },
        {
          "output_type": "execute_result",
          "data": {
            "text/plain": [
              "[0.07699374854564667, 0.9767000079154968]"
            ]
          },
          "metadata": {
            "tags": []
          },
          "execution_count": 15
        }
      ]
    },
    {
      "cell_type": "code",
      "metadata": {
        "id": "mXmPfNKyoQAt"
      },
      "source": [
        "probability_model = tf.keras.Sequential([\r\n",
        "  model,\r\n",
        "  tf.keras.layers.Softmax()\r\n",
        "])"
      ],
      "execution_count": 16,
      "outputs": []
    },
    {
      "cell_type": "code",
      "metadata": {
        "colab": {
          "base_uri": "https://localhost:8080/"
        },
        "id": "qW2zrSoboTdc",
        "outputId": "cbffac0e-0e6e-4b4c-eae5-7835120c47ff"
      },
      "source": [
        "probability_model(x_test[:5])"
      ],
      "execution_count": 17,
      "outputs": [
        {
          "output_type": "execute_result",
          "data": {
            "text/plain": [
              "<tf.Tensor: shape=(5, 10), dtype=float32, numpy=\n",
              "array([[1.67314440e-07, 6.09090944e-10, 1.37889435e-06, 7.68075115e-05,\n",
              "        2.42406199e-11, 2.58244768e-08, 3.34945525e-14, 9.99921560e-01,\n",
              "        1.18898615e-08, 1.30991396e-07],\n",
              "       [9.62515068e-10, 6.27024856e-05, 9.99903917e-01, 3.24299108e-05,\n",
              "        7.42432981e-18, 2.32192985e-08, 7.15480952e-10, 9.78043465e-14,\n",
              "        9.44839940e-07, 3.72011449e-15],\n",
              "       [2.21182930e-07, 9.99020338e-01, 3.32413736e-04, 9.43207306e-06,\n",
              "        8.75355090e-06, 1.33325398e-06, 2.93011708e-05, 2.77810934e-04,\n",
              "        3.19824321e-04, 5.24717393e-07],\n",
              "       [9.99970198e-01, 8.81595597e-09, 9.34475520e-06, 2.84582143e-07,\n",
              "        1.64919385e-08, 4.15701652e-06, 1.92024550e-06, 8.62670731e-06,\n",
              "        5.36428111e-08, 5.25601899e-06],\n",
              "       [4.87441639e-07, 5.53954536e-08, 1.81170822e-06, 1.08498712e-08,\n",
              "        9.97647703e-01, 1.13968561e-07, 2.15707658e-07, 3.24646717e-05,\n",
              "        9.47690921e-07, 2.31628306e-03]], dtype=float32)>"
            ]
          },
          "metadata": {
            "tags": []
          },
          "execution_count": 17
        }
      ]
    },
    {
      "cell_type": "code",
      "metadata": {
        "id": "3NPL72dooVtI"
      },
      "source": [
        ""
      ],
      "execution_count": null,
      "outputs": []
    }
  ]
}